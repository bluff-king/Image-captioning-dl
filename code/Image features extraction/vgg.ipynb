{
 "cells": [
  {
   "cell_type": "markdown",
   "metadata": {},
   "source": [
    "## **Extract features from image using VGG**\n",
    "\n",
    "### **Import necessary libraries**"
   ]
  },
  {
   "cell_type": "code",
   "execution_count": 1,
   "metadata": {},
   "outputs": [],
   "source": [
    "import os \n",
    "import sys\n",
    "\n",
    "import pandas as pd \n",
    "import numpy as np \n",
    "\n",
    "import matplotlib.pyplot as plt \n",
    "%matplotlib inline \n",
    "import seaborn as sns \n",
    "\n",
    "import warnings \n",
    "warnings.filterwarnings('ignore')\n",
    "\n",
    "from PIL import Image \n",
    "\n",
    "import torch\n",
    "import torchvision \n",
    "import torchvision.transforms as transforms \n",
    "import torchvision.models as models \n",
    "from torch.utils.data import Dataset, DataLoader\n",
    "import torch.nn as nn \n",
    "from torch.autograd import Variable\n",
    "from Img2Vec import Img2Vec \n"
   ]
  },
  {
   "cell_type": "code",
   "execution_count": 2,
   "metadata": {},
   "outputs": [],
   "source": [
    "current_cwd = os.getcwd()\n",
    "lst = current_cwd.split('\\\\', 2)\n",
    "new_cwd = '/'.join(lst[:2])\n",
    "os.chdir(new_cwd)\n",
    "sys.path.append(new_cwd + '/code')"
   ]
  },
  {
   "cell_type": "code",
   "execution_count": 3,
   "metadata": {},
   "outputs": [
    {
     "data": {
      "text/html": [
       "<div>\n",
       "<style scoped>\n",
       "    .dataframe tbody tr th:only-of-type {\n",
       "        vertical-align: middle;\n",
       "    }\n",
       "\n",
       "    .dataframe tbody tr th {\n",
       "        vertical-align: top;\n",
       "    }\n",
       "\n",
       "    .dataframe thead th {\n",
       "        text-align: right;\n",
       "    }\n",
       "</style>\n",
       "<table border=\"1\" class=\"dataframe\">\n",
       "  <thead>\n",
       "    <tr style=\"text-align: right;\">\n",
       "      <th></th>\n",
       "      <th>image</th>\n",
       "      <th>caption</th>\n",
       "    </tr>\n",
       "  </thead>\n",
       "  <tbody>\n",
       "    <tr>\n",
       "      <th>0</th>\n",
       "      <td>1000268201_693b08cb0e.jpg</td>\n",
       "      <td>A child in a pink dress is climbing up a set o...</td>\n",
       "    </tr>\n",
       "    <tr>\n",
       "      <th>1</th>\n",
       "      <td>1000268201_693b08cb0e.jpg</td>\n",
       "      <td>A girl going into a wooden building .</td>\n",
       "    </tr>\n",
       "    <tr>\n",
       "      <th>2</th>\n",
       "      <td>1000268201_693b08cb0e.jpg</td>\n",
       "      <td>A little girl climbing into a wooden playhouse .</td>\n",
       "    </tr>\n",
       "    <tr>\n",
       "      <th>3</th>\n",
       "      <td>1000268201_693b08cb0e.jpg</td>\n",
       "      <td>A little girl climbing the stairs to her playh...</td>\n",
       "    </tr>\n",
       "    <tr>\n",
       "      <th>4</th>\n",
       "      <td>1000268201_693b08cb0e.jpg</td>\n",
       "      <td>A little girl in a pink dress going into a woo...</td>\n",
       "    </tr>\n",
       "    <tr>\n",
       "      <th>...</th>\n",
       "      <td>...</td>\n",
       "      <td>...</td>\n",
       "    </tr>\n",
       "    <tr>\n",
       "      <th>40450</th>\n",
       "      <td>997722733_0cb5439472.jpg</td>\n",
       "      <td>A man in a pink shirt climbs a rock face</td>\n",
       "    </tr>\n",
       "    <tr>\n",
       "      <th>40451</th>\n",
       "      <td>997722733_0cb5439472.jpg</td>\n",
       "      <td>A man is rock climbing high in the air .</td>\n",
       "    </tr>\n",
       "    <tr>\n",
       "      <th>40452</th>\n",
       "      <td>997722733_0cb5439472.jpg</td>\n",
       "      <td>A person in a red shirt climbing up a rock fac...</td>\n",
       "    </tr>\n",
       "    <tr>\n",
       "      <th>40453</th>\n",
       "      <td>997722733_0cb5439472.jpg</td>\n",
       "      <td>A rock climber in a red shirt .</td>\n",
       "    </tr>\n",
       "    <tr>\n",
       "      <th>40454</th>\n",
       "      <td>997722733_0cb5439472.jpg</td>\n",
       "      <td>A rock climber practices on a rock climbing wa...</td>\n",
       "    </tr>\n",
       "  </tbody>\n",
       "</table>\n",
       "<p>40455 rows × 2 columns</p>\n",
       "</div>"
      ],
      "text/plain": [
       "                           image  \\\n",
       "0      1000268201_693b08cb0e.jpg   \n",
       "1      1000268201_693b08cb0e.jpg   \n",
       "2      1000268201_693b08cb0e.jpg   \n",
       "3      1000268201_693b08cb0e.jpg   \n",
       "4      1000268201_693b08cb0e.jpg   \n",
       "...                          ...   \n",
       "40450   997722733_0cb5439472.jpg   \n",
       "40451   997722733_0cb5439472.jpg   \n",
       "40452   997722733_0cb5439472.jpg   \n",
       "40453   997722733_0cb5439472.jpg   \n",
       "40454   997722733_0cb5439472.jpg   \n",
       "\n",
       "                                                 caption  \n",
       "0      A child in a pink dress is climbing up a set o...  \n",
       "1                  A girl going into a wooden building .  \n",
       "2       A little girl climbing into a wooden playhouse .  \n",
       "3      A little girl climbing the stairs to her playh...  \n",
       "4      A little girl in a pink dress going into a woo...  \n",
       "...                                                  ...  \n",
       "40450           A man in a pink shirt climbs a rock face  \n",
       "40451           A man is rock climbing high in the air .  \n",
       "40452  A person in a red shirt climbing up a rock fac...  \n",
       "40453                    A rock climber in a red shirt .  \n",
       "40454  A rock climber practices on a rock climbing wa...  \n",
       "\n",
       "[40455 rows x 2 columns]"
      ]
     },
     "execution_count": 3,
     "metadata": {},
     "output_type": "execute_result"
    }
   ],
   "source": [
    "IMAGES_PATH = 'data/flickr8k/Images'\n",
    "CAPTIONS_PATH = 'data/flickr8k/captions.txt'\n",
    "\n",
    "data = pd.read_csv(CAPTIONS_PATH)\n",
    "data"
   ]
  },
  {
   "cell_type": "code",
   "execution_count": 4,
   "metadata": {},
   "outputs": [
    {
     "data": {
      "text/html": [
       "<div>\n",
       "<style scoped>\n",
       "    .dataframe tbody tr th:only-of-type {\n",
       "        vertical-align: middle;\n",
       "    }\n",
       "\n",
       "    .dataframe tbody tr th {\n",
       "        vertical-align: top;\n",
       "    }\n",
       "\n",
       "    .dataframe thead th {\n",
       "        text-align: right;\n",
       "    }\n",
       "</style>\n",
       "<table border=\"1\" class=\"dataframe\">\n",
       "  <thead>\n",
       "    <tr style=\"text-align: right;\">\n",
       "      <th></th>\n",
       "      <th>image</th>\n",
       "      <th>caption</th>\n",
       "    </tr>\n",
       "  </thead>\n",
       "  <tbody>\n",
       "    <tr>\n",
       "      <th>0</th>\n",
       "      <td>1000268201_693b08cb0e.jpg</td>\n",
       "      <td>A child in a pink dress is climbing up a set o...</td>\n",
       "    </tr>\n",
       "    <tr>\n",
       "      <th>5</th>\n",
       "      <td>1001773457_577c3a7d70.jpg</td>\n",
       "      <td>A black dog and a spotted dog are fighting</td>\n",
       "    </tr>\n",
       "    <tr>\n",
       "      <th>10</th>\n",
       "      <td>1002674143_1b742ab4b8.jpg</td>\n",
       "      <td>A little girl covered in paint sits in front o...</td>\n",
       "    </tr>\n",
       "    <tr>\n",
       "      <th>15</th>\n",
       "      <td>1003163366_44323f5815.jpg</td>\n",
       "      <td>A man lays on a bench while his dog sits by him .</td>\n",
       "    </tr>\n",
       "    <tr>\n",
       "      <th>20</th>\n",
       "      <td>1007129816_e794419615.jpg</td>\n",
       "      <td>A man in an orange hat starring at something .</td>\n",
       "    </tr>\n",
       "    <tr>\n",
       "      <th>...</th>\n",
       "      <td>...</td>\n",
       "      <td>...</td>\n",
       "    </tr>\n",
       "    <tr>\n",
       "      <th>40430</th>\n",
       "      <td>990890291_afc72be141.jpg</td>\n",
       "      <td>A man does a wheelie on his bicycle on the sid...</td>\n",
       "    </tr>\n",
       "    <tr>\n",
       "      <th>40435</th>\n",
       "      <td>99171998_7cc800ceef.jpg</td>\n",
       "      <td>A group is sitting around a snowy crevasse .</td>\n",
       "    </tr>\n",
       "    <tr>\n",
       "      <th>40440</th>\n",
       "      <td>99679241_adc853a5c0.jpg</td>\n",
       "      <td>A grey bird stands majestically on a beach whi...</td>\n",
       "    </tr>\n",
       "    <tr>\n",
       "      <th>40445</th>\n",
       "      <td>997338199_7343367d7f.jpg</td>\n",
       "      <td>A person stands near golden walls .</td>\n",
       "    </tr>\n",
       "    <tr>\n",
       "      <th>40450</th>\n",
       "      <td>997722733_0cb5439472.jpg</td>\n",
       "      <td>A man in a pink shirt climbs a rock face</td>\n",
       "    </tr>\n",
       "  </tbody>\n",
       "</table>\n",
       "<p>8091 rows × 2 columns</p>\n",
       "</div>"
      ],
      "text/plain": [
       "                           image  \\\n",
       "0      1000268201_693b08cb0e.jpg   \n",
       "5      1001773457_577c3a7d70.jpg   \n",
       "10     1002674143_1b742ab4b8.jpg   \n",
       "15     1003163366_44323f5815.jpg   \n",
       "20     1007129816_e794419615.jpg   \n",
       "...                          ...   \n",
       "40430   990890291_afc72be141.jpg   \n",
       "40435    99171998_7cc800ceef.jpg   \n",
       "40440    99679241_adc853a5c0.jpg   \n",
       "40445   997338199_7343367d7f.jpg   \n",
       "40450   997722733_0cb5439472.jpg   \n",
       "\n",
       "                                                 caption  \n",
       "0      A child in a pink dress is climbing up a set o...  \n",
       "5             A black dog and a spotted dog are fighting  \n",
       "10     A little girl covered in paint sits in front o...  \n",
       "15     A man lays on a bench while his dog sits by him .  \n",
       "20        A man in an orange hat starring at something .  \n",
       "...                                                  ...  \n",
       "40430  A man does a wheelie on his bicycle on the sid...  \n",
       "40435       A group is sitting around a snowy crevasse .  \n",
       "40440  A grey bird stands majestically on a beach whi...  \n",
       "40445                A person stands near golden walls .  \n",
       "40450           A man in a pink shirt climbs a rock face  \n",
       "\n",
       "[8091 rows x 2 columns]"
      ]
     },
     "execution_count": 4,
     "metadata": {},
     "output_type": "execute_result"
    }
   ],
   "source": [
    "images_data = data.drop_duplicates(subset=['image'])\n",
    "images_data"
   ]
  },
  {
   "cell_type": "markdown",
   "metadata": {},
   "source": [
    "### **Load the VGG11BN**"
   ]
  },
  {
   "cell_type": "code",
   "execution_count": 5,
   "metadata": {},
   "outputs": [
    {
     "name": "stdout",
     "output_type": "stream",
     "text": [
      "Completed 1000 images\n",
      "Completed 2000 images\n",
      "Completed 3000 images\n",
      "Completed 4000 images\n",
      "Completed 5000 images\n",
      "Completed 6000 images\n",
      "Completed 7000 images\n",
      "Completed 8000 images\n"
     ]
    }
   ],
   "source": [
    "vgg11_bn_image = {}\n",
    "cnt = 0\n",
    "img2vec = Img2Vec('vgg11bn')\n",
    "for img in images_data.image:\n",
    "    vgg11_bn_image[img] = img2vec.get_vector(IMAGES_PATH + '/' + img)\n",
    "    cnt += 1\n",
    "    if cnt % 1000 == 0:\n",
    "        print(f\"Completed {cnt} images\")"
   ]
  },
  {
   "cell_type": "code",
   "execution_count": 6,
   "metadata": {},
   "outputs": [],
   "source": [
    "vgg11_bn_features = images_data"
   ]
  },
  {
   "cell_type": "code",
   "execution_count": 7,
   "metadata": {},
   "outputs": [],
   "source": [
    "vgg11_bn_features['image features'] = vgg11_bn_features.image.map(vgg11_bn_image)"
   ]
  },
  {
   "cell_type": "code",
   "execution_count": 8,
   "metadata": {},
   "outputs": [],
   "source": [
    "vgg11_bn_features = vgg11_bn_features[['image', 'image features']].reindex()\n",
    "with open('Image features/vgg11_bn.csv', mode='w', encoding='utf-8') as file: \n",
    "    vgg11_bn_features.to_csv(file, index=False)"
   ]
  },
  {
   "cell_type": "markdown",
   "metadata": {},
   "source": [
    "### **Load the VGG13BN**"
   ]
  },
  {
   "cell_type": "code",
   "execution_count": 9,
   "metadata": {},
   "outputs": [
    {
     "name": "stdout",
     "output_type": "stream",
     "text": [
      "Completed 1000 images\n",
      "Completed 2000 images\n",
      "Completed 3000 images\n",
      "Completed 4000 images\n",
      "Completed 5000 images\n",
      "Completed 6000 images\n",
      "Completed 7000 images\n",
      "Completed 8000 images\n"
     ]
    }
   ],
   "source": [
    "vgg13_bn_image = {}\n",
    "cnt = 0\n",
    "img2vec = Img2Vec('vgg13bn')\n",
    "for img in images_data.image:\n",
    "    vgg13_bn_image[img] = img2vec.get_vector(IMAGES_PATH + '/' + img)\n",
    "    cnt += 1\n",
    "    if cnt % 1000 == 0:\n",
    "        print(f\"Completed {cnt} images\")"
   ]
  },
  {
   "cell_type": "code",
   "execution_count": 10,
   "metadata": {},
   "outputs": [],
   "source": [
    "vgg13_bn_features = images_data"
   ]
  },
  {
   "cell_type": "code",
   "execution_count": 11,
   "metadata": {},
   "outputs": [],
   "source": [
    "vgg13_bn_features['image features'] = vgg13_bn_features.image.map(vgg13_bn_image)"
   ]
  },
  {
   "cell_type": "code",
   "execution_count": 12,
   "metadata": {},
   "outputs": [],
   "source": [
    "vgg13_bn_features = vgg13_bn_features[['image', 'image features']].reindex()\n",
    "with open('Image features/vgg13_bn.csv', mode='w', encoding='utf-8') as file: \n",
    "    vgg13_bn_features.to_csv(file, index=False)"
   ]
  },
  {
   "cell_type": "markdown",
   "metadata": {},
   "source": [
    "### **Load the VGG16BN**"
   ]
  },
  {
   "cell_type": "code",
   "execution_count": 13,
   "metadata": {},
   "outputs": [
    {
     "name": "stdout",
     "output_type": "stream",
     "text": [
      "Completed 1000 images\n",
      "Completed 2000 images\n",
      "Completed 3000 images\n",
      "Completed 4000 images\n",
      "Completed 5000 images\n",
      "Completed 6000 images\n",
      "Completed 7000 images\n",
      "Completed 8000 images\n"
     ]
    }
   ],
   "source": [
    "vgg16_bn_image = {}\n",
    "cnt = 0\n",
    "img2vec = Img2Vec('vgg16bn')\n",
    "for img in images_data.image:\n",
    "    vgg16_bn_image[img] = img2vec.get_vector(IMAGES_PATH + '/' + img)\n",
    "    cnt += 1\n",
    "    if cnt % 1000 == 0:\n",
    "        print(f\"Completed {cnt} images\")"
   ]
  },
  {
   "cell_type": "code",
   "execution_count": 14,
   "metadata": {},
   "outputs": [],
   "source": [
    "vgg16_bn_features = images_data"
   ]
  },
  {
   "cell_type": "code",
   "execution_count": 15,
   "metadata": {},
   "outputs": [],
   "source": [
    "vgg16_bn_features['image features'] = vgg16_bn_features.image.map(vgg16_bn_image)"
   ]
  },
  {
   "cell_type": "code",
   "execution_count": 16,
   "metadata": {},
   "outputs": [],
   "source": [
    "vgg16_bn_features = vgg16_bn_features[['image', 'image features']].reindex()\n",
    "with open('Image features/vgg16_bn.csv', mode='w', encoding='utf-8') as file: \n",
    "    vgg16_bn_features.to_csv(file, index=False)"
   ]
  },
  {
   "cell_type": "markdown",
   "metadata": {},
   "source": [
    "### **Load the VGG19BN**"
   ]
  },
  {
   "cell_type": "code",
   "execution_count": 17,
   "metadata": {},
   "outputs": [
    {
     "name": "stdout",
     "output_type": "stream",
     "text": [
      "Completed 1000 images\n",
      "Completed 2000 images\n",
      "Completed 3000 images\n",
      "Completed 4000 images\n",
      "Completed 5000 images\n",
      "Completed 6000 images\n",
      "Completed 7000 images\n",
      "Completed 8000 images\n"
     ]
    }
   ],
   "source": [
    "vgg19_bn_image = {}\n",
    "cnt = 0\n",
    "img2vec = Img2Vec('vgg19bn')\n",
    "for img in images_data.image:\n",
    "    vgg19_bn_image[img] = img2vec.get_vector(IMAGES_PATH + '/' + img)\n",
    "    cnt += 1\n",
    "    if cnt % 1000 == 0:\n",
    "        print(f\"Completed {cnt} images\")"
   ]
  },
  {
   "cell_type": "code",
   "execution_count": 18,
   "metadata": {},
   "outputs": [],
   "source": [
    "vgg19_bn_features = images_data"
   ]
  },
  {
   "cell_type": "code",
   "execution_count": 19,
   "metadata": {},
   "outputs": [],
   "source": [
    "vgg19_bn_features['image features'] = vgg19_bn_features.image.map(vgg19_bn_image)"
   ]
  },
  {
   "cell_type": "code",
   "execution_count": 20,
   "metadata": {},
   "outputs": [],
   "source": [
    "vgg19_bn_features = vgg19_bn_features[['image', 'image features']].reindex()\n",
    "with open('Image features/vgg19_bn.csv', mode='w', encoding='utf-8') as file: \n",
    "    vgg19_bn_features.to_csv(file, index=False)"
   ]
  }
 ],
 "metadata": {
  "kernelspec": {
   "display_name": "Python 3",
   "language": "python",
   "name": "python3"
  },
  "language_info": {
   "codemirror_mode": {
    "name": "ipython",
    "version": 3
   },
   "file_extension": ".py",
   "mimetype": "text/x-python",
   "name": "python",
   "nbconvert_exporter": "python",
   "pygments_lexer": "ipython3",
   "version": "3.12.7"
  }
 },
 "nbformat": 4,
 "nbformat_minor": 2
}
