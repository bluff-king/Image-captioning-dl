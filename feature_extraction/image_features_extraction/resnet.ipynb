{
 "cells": [
  {
   "cell_type": "markdown",
   "metadata": {},
   "source": [
    "## **Extract features from image using ResNet**"
   ]
  },
  {
   "cell_type": "markdown",
   "metadata": {},
   "source": [
    "### **Import necessary libraries**"
   ]
  },
  {
   "cell_type": "code",
   "execution_count": 1,
   "metadata": {},
   "outputs": [],
   "source": [
    "import os \n",
    "import platform\n",
    "import sys\n",
    "\n",
    "import pandas as pd \n",
    "import numpy as np \n",
    "\n",
    "import matplotlib.pyplot as plt \n",
    "%matplotlib inline \n",
    "import seaborn as sns \n",
    "\n",
    "import warnings \n",
    "warnings.filterwarnings('ignore')\n",
    "\n",
    "from PIL import Image \n",
    "\n",
    "import torch\n",
    "import torchvision \n",
    "import torchvision.transforms as transforms \n",
    "import torchvision.models as models \n",
    "from torch.utils.data import Dataset, DataLoader\n",
    "import torch.nn as nn \n",
    "from torch.autograd import Variable\n",
    "from Img2Vec import Img2Vec\n"
   ]
  },
  {
   "cell_type": "code",
   "execution_count": 2,
   "metadata": {},
   "outputs": [],
   "source": [
    "current_cwd = os.getcwd()"
   ]
  },
  {
   "cell_type": "code",
   "execution_count": 3,
   "metadata": {},
   "outputs": [
    {
     "name": "stdout",
     "output_type": "stream",
     "text": [
      "Windows\n"
     ]
    }
   ],
   "source": [
    "if platform.system() == 'Windows':\n",
    "    lst = current_cwd.split('\\\\', 2)\n",
    "    new_cwd = '/'.join(lst[:2])\n",
    "    os.chdir(new_cwd)\n",
    "    sys.path.append(new_cwd + '/code')\n",
    "    IMAGES_PATH = 'data/flickr8k/Images'\n",
    "    CAPTIONS_PATH = 'data/flickr8k/captions.txt'\n",
    "else:\n",
    "    IMAGES_PATH = os.path.join('../../', 'data', 'flickr8k', 'Images')\n",
    "    CAPTIONS_PATH = os.path.join('../../', 'data', 'flickr8k', 'captions.txt')\n",
    "print(platform.system())"
   ]
  },
  {
   "cell_type": "code",
   "execution_count": 4,
   "metadata": {},
   "outputs": [
    {
     "data": {
      "text/html": [
       "<div>\n",
       "<style scoped>\n",
       "    .dataframe tbody tr th:only-of-type {\n",
       "        vertical-align: middle;\n",
       "    }\n",
       "\n",
       "    .dataframe tbody tr th {\n",
       "        vertical-align: top;\n",
       "    }\n",
       "\n",
       "    .dataframe thead th {\n",
       "        text-align: right;\n",
       "    }\n",
       "</style>\n",
       "<table border=\"1\" class=\"dataframe\">\n",
       "  <thead>\n",
       "    <tr style=\"text-align: right;\">\n",
       "      <th></th>\n",
       "      <th>image</th>\n",
       "      <th>caption</th>\n",
       "    </tr>\n",
       "  </thead>\n",
       "  <tbody>\n",
       "    <tr>\n",
       "      <th>0</th>\n",
       "      <td>1000268201_693b08cb0e.jpg</td>\n",
       "      <td>A child in a pink dress is climbing up a set o...</td>\n",
       "    </tr>\n",
       "    <tr>\n",
       "      <th>1</th>\n",
       "      <td>1000268201_693b08cb0e.jpg</td>\n",
       "      <td>A girl going into a wooden building .</td>\n",
       "    </tr>\n",
       "    <tr>\n",
       "      <th>2</th>\n",
       "      <td>1000268201_693b08cb0e.jpg</td>\n",
       "      <td>A little girl climbing into a wooden playhouse .</td>\n",
       "    </tr>\n",
       "    <tr>\n",
       "      <th>3</th>\n",
       "      <td>1000268201_693b08cb0e.jpg</td>\n",
       "      <td>A little girl climbing the stairs to her playh...</td>\n",
       "    </tr>\n",
       "    <tr>\n",
       "      <th>4</th>\n",
       "      <td>1000268201_693b08cb0e.jpg</td>\n",
       "      <td>A little girl in a pink dress going into a woo...</td>\n",
       "    </tr>\n",
       "    <tr>\n",
       "      <th>...</th>\n",
       "      <td>...</td>\n",
       "      <td>...</td>\n",
       "    </tr>\n",
       "    <tr>\n",
       "      <th>40450</th>\n",
       "      <td>997722733_0cb5439472.jpg</td>\n",
       "      <td>A man in a pink shirt climbs a rock face</td>\n",
       "    </tr>\n",
       "    <tr>\n",
       "      <th>40451</th>\n",
       "      <td>997722733_0cb5439472.jpg</td>\n",
       "      <td>A man is rock climbing high in the air .</td>\n",
       "    </tr>\n",
       "    <tr>\n",
       "      <th>40452</th>\n",
       "      <td>997722733_0cb5439472.jpg</td>\n",
       "      <td>A person in a red shirt climbing up a rock fac...</td>\n",
       "    </tr>\n",
       "    <tr>\n",
       "      <th>40453</th>\n",
       "      <td>997722733_0cb5439472.jpg</td>\n",
       "      <td>A rock climber in a red shirt .</td>\n",
       "    </tr>\n",
       "    <tr>\n",
       "      <th>40454</th>\n",
       "      <td>997722733_0cb5439472.jpg</td>\n",
       "      <td>A rock climber practices on a rock climbing wa...</td>\n",
       "    </tr>\n",
       "  </tbody>\n",
       "</table>\n",
       "<p>40455 rows × 2 columns</p>\n",
       "</div>"
      ],
      "text/plain": [
       "                           image  \\\n",
       "0      1000268201_693b08cb0e.jpg   \n",
       "1      1000268201_693b08cb0e.jpg   \n",
       "2      1000268201_693b08cb0e.jpg   \n",
       "3      1000268201_693b08cb0e.jpg   \n",
       "4      1000268201_693b08cb0e.jpg   \n",
       "...                          ...   \n",
       "40450   997722733_0cb5439472.jpg   \n",
       "40451   997722733_0cb5439472.jpg   \n",
       "40452   997722733_0cb5439472.jpg   \n",
       "40453   997722733_0cb5439472.jpg   \n",
       "40454   997722733_0cb5439472.jpg   \n",
       "\n",
       "                                                 caption  \n",
       "0      A child in a pink dress is climbing up a set o...  \n",
       "1                  A girl going into a wooden building .  \n",
       "2       A little girl climbing into a wooden playhouse .  \n",
       "3      A little girl climbing the stairs to her playh...  \n",
       "4      A little girl in a pink dress going into a woo...  \n",
       "...                                                  ...  \n",
       "40450           A man in a pink shirt climbs a rock face  \n",
       "40451           A man is rock climbing high in the air .  \n",
       "40452  A person in a red shirt climbing up a rock fac...  \n",
       "40453                    A rock climber in a red shirt .  \n",
       "40454  A rock climber practices on a rock climbing wa...  \n",
       "\n",
       "[40455 rows x 2 columns]"
      ]
     },
     "execution_count": 4,
     "metadata": {},
     "output_type": "execute_result"
    }
   ],
   "source": [
    "data = pd.read_csv(CAPTIONS_PATH)\n",
    "data"
   ]
  },
  {
   "cell_type": "code",
   "execution_count": 5,
   "metadata": {},
   "outputs": [
    {
     "data": {
      "text/html": [
       "<div>\n",
       "<style scoped>\n",
       "    .dataframe tbody tr th:only-of-type {\n",
       "        vertical-align: middle;\n",
       "    }\n",
       "\n",
       "    .dataframe tbody tr th {\n",
       "        vertical-align: top;\n",
       "    }\n",
       "\n",
       "    .dataframe thead th {\n",
       "        text-align: right;\n",
       "    }\n",
       "</style>\n",
       "<table border=\"1\" class=\"dataframe\">\n",
       "  <thead>\n",
       "    <tr style=\"text-align: right;\">\n",
       "      <th></th>\n",
       "      <th>image</th>\n",
       "      <th>caption</th>\n",
       "    </tr>\n",
       "  </thead>\n",
       "  <tbody>\n",
       "    <tr>\n",
       "      <th>0</th>\n",
       "      <td>1000268201_693b08cb0e.jpg</td>\n",
       "      <td>A child in a pink dress is climbing up a set o...</td>\n",
       "    </tr>\n",
       "    <tr>\n",
       "      <th>5</th>\n",
       "      <td>1001773457_577c3a7d70.jpg</td>\n",
       "      <td>A black dog and a spotted dog are fighting</td>\n",
       "    </tr>\n",
       "    <tr>\n",
       "      <th>10</th>\n",
       "      <td>1002674143_1b742ab4b8.jpg</td>\n",
       "      <td>A little girl covered in paint sits in front o...</td>\n",
       "    </tr>\n",
       "    <tr>\n",
       "      <th>15</th>\n",
       "      <td>1003163366_44323f5815.jpg</td>\n",
       "      <td>A man lays on a bench while his dog sits by him .</td>\n",
       "    </tr>\n",
       "    <tr>\n",
       "      <th>20</th>\n",
       "      <td>1007129816_e794419615.jpg</td>\n",
       "      <td>A man in an orange hat starring at something .</td>\n",
       "    </tr>\n",
       "    <tr>\n",
       "      <th>...</th>\n",
       "      <td>...</td>\n",
       "      <td>...</td>\n",
       "    </tr>\n",
       "    <tr>\n",
       "      <th>40430</th>\n",
       "      <td>990890291_afc72be141.jpg</td>\n",
       "      <td>A man does a wheelie on his bicycle on the sid...</td>\n",
       "    </tr>\n",
       "    <tr>\n",
       "      <th>40435</th>\n",
       "      <td>99171998_7cc800ceef.jpg</td>\n",
       "      <td>A group is sitting around a snowy crevasse .</td>\n",
       "    </tr>\n",
       "    <tr>\n",
       "      <th>40440</th>\n",
       "      <td>99679241_adc853a5c0.jpg</td>\n",
       "      <td>A grey bird stands majestically on a beach whi...</td>\n",
       "    </tr>\n",
       "    <tr>\n",
       "      <th>40445</th>\n",
       "      <td>997338199_7343367d7f.jpg</td>\n",
       "      <td>A person stands near golden walls .</td>\n",
       "    </tr>\n",
       "    <tr>\n",
       "      <th>40450</th>\n",
       "      <td>997722733_0cb5439472.jpg</td>\n",
       "      <td>A man in a pink shirt climbs a rock face</td>\n",
       "    </tr>\n",
       "  </tbody>\n",
       "</table>\n",
       "<p>8091 rows × 2 columns</p>\n",
       "</div>"
      ],
      "text/plain": [
       "                           image  \\\n",
       "0      1000268201_693b08cb0e.jpg   \n",
       "5      1001773457_577c3a7d70.jpg   \n",
       "10     1002674143_1b742ab4b8.jpg   \n",
       "15     1003163366_44323f5815.jpg   \n",
       "20     1007129816_e794419615.jpg   \n",
       "...                          ...   \n",
       "40430   990890291_afc72be141.jpg   \n",
       "40435    99171998_7cc800ceef.jpg   \n",
       "40440    99679241_adc853a5c0.jpg   \n",
       "40445   997338199_7343367d7f.jpg   \n",
       "40450   997722733_0cb5439472.jpg   \n",
       "\n",
       "                                                 caption  \n",
       "0      A child in a pink dress is climbing up a set o...  \n",
       "5             A black dog and a spotted dog are fighting  \n",
       "10     A little girl covered in paint sits in front o...  \n",
       "15     A man lays on a bench while his dog sits by him .  \n",
       "20        A man in an orange hat starring at something .  \n",
       "...                                                  ...  \n",
       "40430  A man does a wheelie on his bicycle on the sid...  \n",
       "40435       A group is sitting around a snowy crevasse .  \n",
       "40440  A grey bird stands majestically on a beach whi...  \n",
       "40445                A person stands near golden walls .  \n",
       "40450           A man in a pink shirt climbs a rock face  \n",
       "\n",
       "[8091 rows x 2 columns]"
      ]
     },
     "execution_count": 5,
     "metadata": {},
     "output_type": "execute_result"
    }
   ],
   "source": [
    "images_data = data.drop_duplicates(subset=['image'])\n",
    "images_data"
   ]
  },
  {
   "cell_type": "markdown",
   "metadata": {},
   "source": [
    "### **Introduction to ResNet**\n",
    "ResNet, or Residual Network, is a deep neural network architecture that uses residual (skip) connections to enable very deep networks by overcoming the vanishing gradient problem. Key elements include:\n",
    "\n",
    "* Residual Connections: These bypass certain layers, making it easier to learn identity mappings and simplifying optimization.\n",
    "* Building Blocks: The network is composed of residual blocks (basic or bottleneck), each containing a few convolutional layers.\n",
    "* Variants: ResNet has multiple versions (e.g., ResNet-18, ResNet-50,...), with deeper versions using bottleneck blocks for efficiency.\n",
    "\n",
    "ResNet is highly effective for image tasks like classification and segmentation and is widely used in fields like object detection and image captioning due to its strong performance and scalability."
   ]
  },
  {
   "cell_type": "markdown",
   "metadata": {},
   "source": [
    "### **Load the ResNet18**\n",
    "\n",
    "![ResNet18 Architecture](https://www.researchgate.net/publication/382725662/figure/fig2/AS:11431281264192717@1722451506224/ResNet-18-Architecture.ppm)"
   ]
  },
  {
   "cell_type": "code",
   "execution_count": 6,
   "metadata": {},
   "outputs": [
    {
     "name": "stdout",
     "output_type": "stream",
     "text": [
      "Completed 1000 images\n",
      "Completed 2000 images\n",
      "Completed 3000 images\n",
      "Completed 4000 images\n",
      "Completed 5000 images\n",
      "Completed 6000 images\n",
      "Completed 7000 images\n",
      "Completed 8000 images\n"
     ]
    }
   ],
   "source": [
    "resnet18_image = {}\n",
    "cnt = 0\n",
    "img2vec = Img2Vec('resnet18')\n",
    "for img in images_data.image:\n",
    "    resnet18_image[img] = img2vec.get_vector(IMAGES_PATH + '/' + img)\n",
    "    cnt += 1\n",
    "    if cnt % 1000 == 0:\n",
    "        print(f\"Completed {cnt} images\")"
   ]
  },
  {
   "cell_type": "code",
   "execution_count": 7,
   "metadata": {},
   "outputs": [
    {
     "data": {
      "text/plain": [
       "(tensor([3.8345e-01, 1.1888e+00, 2.0343e+00, 6.4980e-01, 1.0371e+00, 5.0759e-01,\n",
       "         2.0290e+00, 1.4654e+00, 8.8523e-02, 8.8243e-01, 4.3587e-01, 8.8620e-01,\n",
       "         7.2078e-02, 1.2284e+00, 1.0852e+00, 6.1441e-01, 1.5507e+00, 1.3863e+00,\n",
       "         1.5646e+00, 1.2428e+00, 1.8518e+00, 2.4511e+00, 2.6280e-01, 6.4997e-01,\n",
       "         1.5667e+00, 3.0497e-01, 1.6401e+00, 1.1432e+00, 3.0494e-01, 1.4645e-01,\n",
       "         6.5222e-01, 1.1068e+00, 1.0753e-01, 7.5800e-01, 5.9176e-01, 1.1517e+00,\n",
       "         2.8855e+00, 2.1484e+00, 3.3196e-01, 1.9821e+00, 1.1292e+00, 9.7843e-01,\n",
       "         3.4590e-01, 9.2510e-01, 4.8257e-01, 5.1201e-01, 1.0385e+00, 7.7162e-01,\n",
       "         8.1492e-01, 1.0990e+00, 2.0924e+00, 4.1963e-01, 1.7711e+00, 1.8155e+00,\n",
       "         5.3877e-01, 1.2503e-01, 2.1425e-01, 3.5798e-01, 7.5806e-01, 1.0883e+00,\n",
       "         1.1352e+00, 2.4458e+00, 8.2191e-02, 1.6267e+00, 3.0328e-01, 7.6934e-01,\n",
       "         3.2321e+00, 3.9877e-01, 1.6922e+00, 9.7383e-02, 1.1044e+00, 5.6156e-01,\n",
       "         9.7783e-01, 6.5980e-01, 9.6024e-01, 9.7300e-01, 1.5074e+00, 2.1273e+00,\n",
       "         2.7915e+00, 2.6302e-02, 1.0976e+00, 7.8373e-01, 3.8944e-01, 3.0965e-01,\n",
       "         2.0399e+00, 2.4097e-01, 8.5659e-01, 5.3686e-01, 2.7393e+00, 7.4468e-01,\n",
       "         1.3877e+00, 1.4332e+00, 1.7141e-01, 8.5382e-01, 1.2233e+00, 7.2560e-01,\n",
       "         3.4843e-01, 8.8644e-01, 5.5122e-01, 8.3179e-01, 6.0703e-01, 5.4791e-01,\n",
       "         2.7177e-01, 1.4303e+00, 2.7771e-01, 1.4817e-01, 7.8105e-02, 3.3695e-01,\n",
       "         1.5797e-01, 2.2283e+00, 4.9151e-01, 2.6631e+00, 5.1020e-01, 1.7319e+00,\n",
       "         1.0196e+00, 9.2542e-01, 4.0318e-01, 3.4120e-01, 1.3100e+00, 5.8428e-01,\n",
       "         6.0009e-01, 1.9707e+00, 8.2942e-01, 8.8963e-01, 6.4126e-01, 3.7698e-01,\n",
       "         1.1385e+00, 6.3676e-01, 9.3623e-01, 7.5398e-01, 4.1749e-01, 1.7909e+00,\n",
       "         2.0745e+00, 1.2905e+00, 3.5387e+00, 4.6870e-01, 3.7859e-01, 2.8648e-01,\n",
       "         5.8941e-01, 1.1798e+00, 2.2228e+00, 9.0940e-01, 8.4508e-02, 7.1074e-01,\n",
       "         2.7650e-01, 1.0671e+00, 1.0334e+00, 4.0123e-01, 3.5305e-01, 1.3198e+00,\n",
       "         5.9022e-01, 1.8664e+00, 4.6667e-01, 5.3673e-02, 1.1866e-01, 3.2907e-01,\n",
       "         7.2735e-01, 6.4229e-01, 5.3027e-01, 8.4099e-01, 7.6837e-01, 1.5200e-01,\n",
       "         4.8050e-01, 2.7926e-02, 9.7988e-01, 1.6298e+00, 7.1404e-01, 1.0246e+00,\n",
       "         1.5472e-01, 1.4783e+00, 7.4861e-01, 4.7732e-02, 1.6245e+00, 2.4119e-01,\n",
       "         1.3136e+00, 1.6543e-01, 5.1513e-01, 2.1758e-01, 1.5831e+00, 3.8060e-01,\n",
       "         1.6728e+00, 1.1460e-01, 2.4181e-01, 1.8275e-01, 2.8326e-01, 1.0609e+00,\n",
       "         2.7402e-02, 4.0260e-01, 5.4301e-01, 3.0536e-01, 1.0361e+00, 8.5280e-01,\n",
       "         1.5141e-01, 6.5166e-01, 3.5941e-01, 5.4076e-01, 5.6419e-01, 1.2924e+00,\n",
       "         1.0913e+00, 7.6063e-01, 5.0853e-01, 8.4209e-01, 1.1896e+00, 9.3951e-01,\n",
       "         5.7384e-01, 1.0968e+00, 3.3304e-01, 5.3250e-02, 1.5335e+00, 4.1879e-01,\n",
       "         1.4854e+00, 1.4936e-01, 4.9066e-01, 3.7115e+00, 2.2279e-01, 6.9461e-01,\n",
       "         1.1609e+00, 7.0329e-01, 1.1253e+00, 1.2715e+00, 2.1858e+00, 2.5862e-01,\n",
       "         9.4917e-01, 5.5546e-01, 8.4179e-01, 9.8946e-01, 1.0878e+00, 3.6052e-01,\n",
       "         3.5526e-01, 7.9942e-01, 1.3116e+00, 9.7443e-01, 2.6954e-01, 1.0700e+00,\n",
       "         3.4965e-02, 1.4705e-01, 5.4657e-01, 1.5501e+00, 1.6188e-01, 4.1868e-01,\n",
       "         2.0478e-01, 9.6842e-01, 2.7524e-01, 1.6782e-01, 8.5123e-01, 8.4583e-01,\n",
       "         5.3968e-01, 2.5518e-01, 8.1435e-01, 2.2378e+00, 7.2211e-01, 2.9739e+00,\n",
       "         1.2011e+00, 1.6593e+00, 1.0321e+00, 2.0199e+00, 2.3280e-01, 9.5722e-01,\n",
       "         1.8626e+00, 2.0541e+00, 6.2439e-01, 1.0134e+00, 2.5233e+00, 1.8149e+00,\n",
       "         1.0146e+00, 1.5508e+00, 1.1071e+00, 5.9944e-01, 5.9455e-01, 5.5305e-01,\n",
       "         2.3182e+00, 6.0513e-02, 2.9195e-01, 1.0060e+00, 1.2243e-01, 8.3084e-02,\n",
       "         1.4086e+00, 3.3295e-01, 3.7634e-01, 3.6514e-01, 1.7327e-01, 7.9799e-01,\n",
       "         2.1577e-01, 3.9493e-01, 1.1586e+00, 1.4404e-01, 1.5995e+00, 1.1993e+00,\n",
       "         6.8086e-01, 1.3067e+00, 2.0103e+00, 8.3864e-01, 1.4254e+00, 1.5968e-02,\n",
       "         2.8832e-01, 2.7686e-01, 2.5941e+00, 2.3399e+00, 1.1165e+00, 1.4558e+00,\n",
       "         1.5528e-02, 1.0995e+00, 1.2838e-01, 2.8737e+00, 7.9196e-01, 1.8827e+00,\n",
       "         7.6109e-01, 1.0687e+00, 2.8933e+00, 1.4124e-01, 1.0002e+00, 1.3202e+00,\n",
       "         3.9052e+00, 7.0764e-01, 9.0613e-01, 1.8869e+00, 6.4260e-01, 1.9852e-01,\n",
       "         5.7472e-01, 1.4211e+00, 6.2554e-01, 1.3904e+00, 1.5024e+00, 7.6032e-01,\n",
       "         3.4538e-01, 3.1102e+00, 3.4306e-01, 4.0405e-01, 2.0767e+00, 1.2743e+00,\n",
       "         3.4772e-01, 1.2897e+00, 3.6768e-01, 7.6948e-01, 1.2118e+00, 1.2749e+00,\n",
       "         3.0565e-01, 1.0141e+00, 1.4545e+00, 1.2521e+00, 3.2119e-01, 1.1276e+00,\n",
       "         8.2060e-01, 3.2484e-01, 1.1083e+00, 3.5081e-01, 8.9802e-01, 1.2098e+00,\n",
       "         1.8852e-01, 7.3080e-01, 1.0066e+00, 1.4773e+00, 2.1380e+00, 2.5402e+00,\n",
       "         2.4566e-01, 1.1712e+00, 2.5472e+00, 1.6415e+00, 9.0899e-01, 2.0982e+00,\n",
       "         2.6965e-01, 1.6861e+00, 4.4002e-01, 3.7894e-01, 2.0269e+00, 1.3882e+00,\n",
       "         1.4869e+00, 2.6645e-01, 7.5557e-01, 5.9652e-01, 2.2875e+00, 1.6484e+00,\n",
       "         1.3055e+00, 1.2650e+00, 1.7679e-01, 4.6098e-02, 6.4581e-01, 6.4689e-01,\n",
       "         1.1608e+00, 1.2917e+00, 1.2107e+00, 1.8151e-01, 4.6515e+00, 9.3415e-01,\n",
       "         1.3382e+00, 1.0920e+00, 5.2585e-01, 4.6498e-01, 5.9362e+00, 3.3577e+00,\n",
       "         4.2168e-01, 1.9812e-01, 5.7101e-01, 8.2441e-01, 9.8710e-01, 5.3453e-02,\n",
       "         2.9839e-01, 9.2707e-01, 1.3625e+00, 1.6545e-01, 2.2618e+00, 1.9775e-01,\n",
       "         1.0597e+00, 2.2292e-01, 2.2173e-02, 8.6654e-01, 8.3073e-01, 2.7329e-01,\n",
       "         3.6780e-01, 9.6988e-01, 3.6044e-01, 7.8835e-01, 6.1179e-01, 1.1039e+00,\n",
       "         1.3823e+00, 1.6672e+00, 4.1341e-01, 1.4023e+00, 6.0938e-01, 1.2329e+00,\n",
       "         6.4217e-01, 1.3068e+00, 1.3961e+00, 4.5587e-01, 7.7580e-01, 2.0917e-01,\n",
       "         4.6001e-01, 2.4090e+00, 6.4373e-01, 8.1715e-01, 4.8294e-01, 1.2408e+00,\n",
       "         1.7689e+00, 2.0003e-02, 1.1284e+00, 2.2411e-01, 6.0007e-01, 4.9504e-01,\n",
       "         1.0888e+00, 7.4554e-01, 1.1517e+00, 1.7008e-01, 5.0839e-01, 5.9957e-01,\n",
       "         4.1755e+00, 7.8092e-01, 3.0113e+00, 4.5837e-01, 2.4840e+00, 1.0268e+00,\n",
       "         1.1071e+00, 9.1710e-01, 1.4112e+00, 7.1767e-01, 2.9271e-01, 2.7407e-01,\n",
       "         3.6095e+00, 2.4469e-01, 1.7017e+00, 1.1546e-01, 6.3421e-01, 6.0915e-01,\n",
       "         3.8179e-01, 1.2085e+00, 1.0432e+00, 1.1122e+00, 1.4379e+00, 4.0957e-01,\n",
       "         9.4132e-01, 5.6490e-01, 1.9016e+00, 1.2360e+00, 1.5773e+00, 2.6355e-01,\n",
       "         6.2100e-01, 4.2703e-01, 1.0518e-01, 8.2785e-01, 2.8703e-01, 2.2575e+00,\n",
       "         1.0494e+00, 1.0750e+00, 5.8952e-01, 2.4131e-01, 1.1175e-01, 2.8005e-02,\n",
       "         7.8923e-01, 2.9865e-01, 4.6004e-01, 3.3270e-03, 2.8606e+00, 3.4084e+00,\n",
       "         6.5127e-01, 7.6576e-01, 2.6775e-01, 3.3326e-01, 2.2245e+00, 4.7988e-01,\n",
       "         6.3265e-01, 3.5736e-01, 1.0093e+00, 1.3588e+00, 7.7307e-01, 2.4698e+00,\n",
       "         7.7468e-01, 7.1127e-02, 8.5299e-02, 2.0184e-01, 1.5844e+00, 5.7263e-01,\n",
       "         1.2673e+00, 1.2690e+00]),\n",
       " 512)"
      ]
     },
     "execution_count": 7,
     "metadata": {},
     "output_type": "execute_result"
    }
   ],
   "source": [
    "tensor = resnet18_image[images_data.image[0]]\n",
    "tensor, len(tensor)"
   ]
  },
  {
   "cell_type": "markdown",
   "metadata": {},
   "source": [
    "### **Load the ResNet34**\n",
    "\n",
    "![ResNet34 Architecture](https://www.researchgate.net/publication/368590488/figure/fig2/AS:11431281120814346@1676648971853/Architecture-of-ResNet34-29.png)"
   ]
  },
  {
   "cell_type": "code",
   "execution_count": 8,
   "metadata": {},
   "outputs": [
    {
     "name": "stdout",
     "output_type": "stream",
     "text": [
      "Completed 1000 images\n",
      "Completed 2000 images\n",
      "Completed 3000 images\n",
      "Completed 4000 images\n",
      "Completed 5000 images\n",
      "Completed 6000 images\n",
      "Completed 7000 images\n",
      "Completed 8000 images\n"
     ]
    }
   ],
   "source": [
    "resnet34_image = {}\n",
    "cnt = 0\n",
    "img2vec = Img2Vec('resnet34')\n",
    "for img in images_data.image:\n",
    "    resnet34_image[img] = img2vec.get_vector(IMAGES_PATH + '/' + img)\n",
    "    cnt += 1\n",
    "    if cnt % 1000 == 0:\n",
    "        print(f\"Completed {cnt} images\")"
   ]
  },
  {
   "cell_type": "code",
   "execution_count": 9,
   "metadata": {},
   "outputs": [
    {
     "data": {
      "text/plain": [
       "(tensor([1.3280e+00, 7.1229e-01, 1.1002e+00, 3.3689e+00, 8.4398e-01, 5.5503e-01,\n",
       "         1.2430e+00, 6.7631e-02, 1.3021e+00, 5.3909e-01, 2.0122e+00, 1.3379e-01,\n",
       "         4.4341e-02, 4.5915e-01, 1.1854e-01, 2.9338e+00, 1.7253e-01, 4.3192e-01,\n",
       "         1.0882e-01, 7.8633e-01, 1.0270e+00, 1.2848e+00, 1.5129e+00, 2.6812e+00,\n",
       "         1.7159e+00, 8.1330e-01, 5.1902e-01, 9.1251e-01, 2.4330e+00, 8.3247e-01,\n",
       "         5.3569e-01, 1.8152e+00, 2.5882e+00, 1.3565e+00, 1.3696e+00, 5.4149e-01,\n",
       "         8.7416e-01, 1.2207e+00, 5.2889e-02, 1.3354e-01, 9.8121e-01, 1.0766e+00,\n",
       "         2.9996e-01, 9.4546e-01, 7.6718e-02, 1.9805e+00, 3.1442e-01, 1.0759e+00,\n",
       "         1.7863e-01, 9.8355e-01, 9.7632e-01, 1.5471e+00, 1.1189e+00, 9.9649e-01,\n",
       "         3.9684e-01, 4.4689e-01, 6.5092e-01, 1.0906e+00, 9.9826e-01, 1.5802e-01,\n",
       "         5.3982e-01, 7.3766e-01, 6.2483e-01, 1.0603e+00, 6.5619e-01, 9.6288e-01,\n",
       "         3.9365e-01, 5.3019e-01, 2.2195e+00, 7.2485e-01, 4.0142e-01, 7.9710e-01,\n",
       "         1.1819e-02, 4.1698e-01, 6.4368e-01, 1.6418e-01, 3.7028e-02, 2.0166e-01,\n",
       "         1.5103e-01, 4.0525e-02, 1.9054e+00, 9.3294e-02, 1.5451e+00, 3.5057e-02,\n",
       "         1.3809e+00, 3.2436e-01, 2.8007e-02, 1.9543e-01, 2.5812e-01, 8.8173e-01,\n",
       "         3.8918e-01, 1.8494e-01, 7.7428e-01, 7.7941e-01, 3.4273e-01, 9.2041e-01,\n",
       "         8.7859e-01, 9.7294e-02, 1.5424e-01, 1.9621e+00, 7.5987e-01, 1.9729e+00,\n",
       "         5.7674e-01, 7.2278e-01, 1.0732e+00, 6.0981e-02, 1.3347e+00, 4.1202e-01,\n",
       "         1.7534e+00, 5.0247e-01, 3.4547e-01, 1.2985e-01, 1.6308e+00, 7.8356e-01,\n",
       "         5.6773e-01, 8.8540e-01, 6.7327e-01, 1.6137e+00, 1.5240e-01, 6.2773e-01,\n",
       "         1.5458e-01, 5.1735e-01, 9.4134e-01, 4.1007e-01, 1.3051e+00, 1.4842e-02,\n",
       "         4.7278e-01, 1.6165e+00, 1.0514e+00, 2.7570e+00, 3.3497e-01, 1.6979e+00,\n",
       "         1.4974e+00, 1.1638e+00, 3.1150e+00, 1.2290e+00, 2.0976e+00, 2.3275e-01,\n",
       "         9.3172e-01, 9.2581e-01, 6.4489e-01, 1.4264e+00, 1.8280e-01, 1.4762e+00,\n",
       "         1.9262e-01, 9.9271e-01, 1.2162e+00, 7.8059e-01, 4.7377e-01, 1.2038e+00,\n",
       "         6.9757e-01, 3.7337e-01, 3.7306e-01, 5.3104e-02, 7.7118e-01, 9.4518e-01,\n",
       "         1.8770e+00, 3.6269e-01, 1.5339e-01, 4.2943e-01, 7.4461e-02, 1.2300e+00,\n",
       "         1.3912e-01, 1.1801e+00, 1.9136e+00, 1.2699e+00, 8.0086e-01, 2.0112e-01,\n",
       "         2.0743e-01, 6.4751e-01, 2.4509e-01, 1.9430e+00, 1.0019e-01, 1.6346e+00,\n",
       "         3.4736e-01, 4.2956e-01, 6.3626e-01, 6.3219e-01, 1.0690e+00, 1.1110e+00,\n",
       "         3.6769e-03, 3.9981e-01, 5.9947e-01, 2.2530e+00, 1.0512e+00, 7.0424e-01,\n",
       "         2.6758e-01, 3.1330e-01, 1.3987e+00, 1.4294e+00, 8.5423e-01, 3.2224e-01,\n",
       "         7.9357e-01, 4.3531e-01, 1.4824e+00, 3.2967e+00, 5.6021e-01, 2.0899e-01,\n",
       "         1.0194e+00, 1.4755e+00, 7.7740e-01, 1.6133e+00, 5.5751e-02, 7.2136e-01,\n",
       "         5.7188e-01, 3.3021e-01, 1.2610e+00, 3.4956e-01, 1.8830e-01, 1.7583e+00,\n",
       "         5.3277e-01, 1.5970e+00, 5.9166e-01, 2.6829e+00, 2.3990e+00, 4.8521e-01,\n",
       "         1.2893e-01, 4.6178e-01, 2.3471e-01, 2.3131e-01, 7.8735e-02, 7.8254e-01,\n",
       "         7.5095e-01, 1.8481e+00, 1.2049e-01, 6.7179e-02, 1.3704e-01, 6.3396e-02,\n",
       "         1.2663e+00, 4.7188e-01, 1.5350e+00, 5.7542e-01, 5.9871e-01, 6.7485e-01,\n",
       "         2.6385e-01, 1.7242e+00, 3.0129e-01, 1.3482e-01, 9.3829e-01, 2.4658e-01,\n",
       "         3.0777e-01, 1.0422e+00, 1.0967e+00, 4.0686e-01, 2.0083e+00, 1.3645e+00,\n",
       "         5.7192e-01, 1.2053e+00, 9.0191e-01, 4.3752e-02, 1.2840e+00, 6.1342e-01,\n",
       "         1.8062e+00, 1.6810e+00, 1.9820e-01, 1.3968e+00, 3.6928e-01, 8.8031e-01,\n",
       "         1.7421e+00, 2.4290e-01, 1.0917e+00, 1.8932e+00, 1.2397e+00, 2.3065e+00,\n",
       "         1.3523e+00, 4.0293e-01, 2.6943e-02, 4.5173e+00, 3.0815e-01, 1.0839e+00,\n",
       "         2.6535e-01, 9.6046e-01, 5.4420e-01, 1.7631e+00, 6.4591e-01, 3.4172e-01,\n",
       "         3.8597e-01, 1.1226e+00, 1.0674e+00, 1.3006e+00, 1.1007e+00, 7.7077e-02,\n",
       "         2.8185e+00, 3.6037e-01, 1.2525e+00, 4.0408e-01, 5.2144e-01, 5.2450e-01,\n",
       "         3.6094e-01, 8.9011e-01, 5.3902e-01, 3.9252e-02, 1.0686e+00, 1.0355e-01,\n",
       "         1.1068e+00, 2.8310e-01, 7.2147e-01, 5.8974e-01, 1.0225e-01, 4.1125e-01,\n",
       "         2.1553e+00, 6.2157e-01, 3.8348e-01, 4.1156e-01, 3.3478e-02, 7.6030e-01,\n",
       "         1.1335e+00, 3.1198e-01, 5.2459e-01, 2.8087e+00, 4.2638e-02, 5.5492e-01,\n",
       "         7.3114e-01, 1.8441e-01, 9.9679e-01, 2.6448e+00, 8.4027e-01, 5.9234e-02,\n",
       "         3.8504e-01, 7.2207e-01, 8.2883e-01, 1.9005e-01, 8.4113e-01, 2.0981e+00,\n",
       "         4.3788e-01, 5.8037e-02, 3.9586e-01, 6.1588e-01, 1.1539e+00, 4.6673e+00,\n",
       "         6.2729e-01, 6.3215e-01, 1.8502e-01, 4.2009e-01, 9.6056e-01, 1.1764e+00,\n",
       "         3.1067e-01, 6.4926e-01, 2.2124e+00, 8.4267e-02, 1.9300e+00, 1.8205e-01,\n",
       "         3.7389e-01, 2.0113e-01, 3.0698e+00, 3.9127e-01, 1.1790e+00, 1.3135e+00,\n",
       "         3.1375e-01, 2.7253e+00, 1.8473e-01, 1.1526e-01, 3.6300e-01, 5.0113e-01,\n",
       "         7.5559e-01, 8.8399e-03, 1.4817e+00, 9.3097e-01, 1.2091e+00, 3.7655e-01,\n",
       "         3.6510e-02, 3.1334e-01, 7.0263e-01, 2.8245e+00, 1.0587e+00, 1.7536e+00,\n",
       "         1.0232e+00, 4.6905e-01, 1.4888e+00, 7.2257e-01, 3.0275e-01, 2.0608e+00,\n",
       "         6.1247e-01, 3.9779e-01, 2.4609e+00, 7.0856e-01, 3.3447e-01, 1.2274e+00,\n",
       "         1.0357e+00, 7.2624e-01, 1.0250e+00, 2.0746e-02, 1.6357e+00, 6.5811e-01,\n",
       "         4.3363e-01, 1.6318e+00, 1.8041e+00, 1.8615e+00, 7.3113e-01, 3.6839e-01,\n",
       "         4.8619e-01, 1.7559e-01, 8.6053e-01, 1.1545e-01, 9.5584e-01, 1.0903e+00,\n",
       "         8.4003e-01, 2.5178e+00, 2.1647e+00, 4.9727e-01, 2.4928e+00, 8.4923e-01,\n",
       "         7.6327e-02, 1.3416e+00, 2.1334e-01, 2.3373e-01, 3.7017e-01, 1.2002e+00,\n",
       "         3.1995e-01, 1.0871e+00, 1.2026e+00, 2.2712e-01, 2.8819e-01, 1.1940e+00,\n",
       "         3.5460e-02, 8.1973e-02, 3.3579e+00, 1.1197e+00, 5.6950e-01, 8.4531e-01,\n",
       "         5.6956e-01, 1.1999e+00, 1.1330e+00, 1.0892e+00, 6.2225e-01, 6.6729e-01,\n",
       "         2.1983e-01, 1.1509e-01, 2.9213e+00, 1.1495e+00, 2.9618e-01, 8.1442e-01,\n",
       "         4.8848e-01, 1.4614e-01, 1.7515e+00, 5.5794e-01, 1.1274e+00, 1.9630e+00,\n",
       "         1.2894e+00, 6.0439e-01, 7.6538e-01, 5.9527e-01, 1.4307e+00, 1.5713e+00,\n",
       "         2.8171e-01, 1.7575e+00, 1.9460e+00, 2.0069e-01, 6.6285e-01, 7.1010e-01,\n",
       "         1.6858e+00, 1.0302e+00, 3.5215e-01, 2.3299e-01, 2.6279e+00, 5.3687e-01,\n",
       "         2.3615e-03, 9.5452e-01, 1.2520e+00, 1.4856e+00, 3.3256e-01, 1.8104e+00,\n",
       "         1.5146e-02, 1.1373e+00, 6.7158e-02, 1.0818e+00, 1.8344e-01, 8.7875e-02,\n",
       "         4.5327e-01, 1.8440e-01, 2.4500e-01, 2.7778e+00, 4.0550e-01, 1.1576e+00,\n",
       "         1.2893e+00, 1.8868e-01, 7.2276e-02, 5.7903e-01, 2.8301e-01, 4.6418e-01,\n",
       "         4.8257e-01, 1.7833e-01, 2.8730e+00, 1.0059e+00, 4.7265e-01, 1.7023e+00,\n",
       "         2.4671e-02, 6.3785e-01, 1.0708e+00, 7.0739e-01, 2.1574e+00, 5.2121e+00,\n",
       "         3.1461e+00, 5.4438e-01, 1.1139e+00, 4.9612e-01, 1.8090e-01, 9.7131e-01,\n",
       "         2.6498e+00, 4.8678e-01, 3.0204e+00, 1.4765e-01, 1.4994e+00, 8.4962e-01,\n",
       "         1.5457e+00, 1.6128e-01, 1.2275e+00, 1.4594e+00, 1.0658e+00, 9.5553e-01,\n",
       "         1.3219e-01, 5.1674e-01]),\n",
       " 512)"
      ]
     },
     "execution_count": 9,
     "metadata": {},
     "output_type": "execute_result"
    }
   ],
   "source": [
    "tensor = resnet34_image[images_data.image[0]]\n",
    "tensor, len(tensor)"
   ]
  },
  {
   "cell_type": "markdown",
   "metadata": {},
   "source": [
    "### **Load the ResNet50**\n",
    "\n",
    "![ResNet50 Architecture](https://www.researchgate.net/publication/350421671/figure/fig1/AS:1005790324346881@1616810508674/An-illustration-of-ResNet-50-layers-architecture.png)"
   ]
  },
  {
   "cell_type": "code",
   "execution_count": 10,
   "metadata": {},
   "outputs": [
    {
     "name": "stdout",
     "output_type": "stream",
     "text": [
      "Completed 1000 images\n",
      "Completed 2000 images\n",
      "Completed 3000 images\n",
      "Completed 4000 images\n",
      "Completed 5000 images\n",
      "Completed 6000 images\n",
      "Completed 7000 images\n",
      "Completed 8000 images\n"
     ]
    }
   ],
   "source": [
    "resnet50_image = {}\n",
    "cnt = 0\n",
    "img2vec = Img2Vec('resnet50')\n",
    "for img in images_data.image:\n",
    "    resnet50_image[img] = img2vec.get_vector(IMAGES_PATH + '/' + img)\n",
    "    cnt += 1\n",
    "    if cnt % 1000 == 0:\n",
    "        print(f\"Completed {cnt} images\")"
   ]
  },
  {
   "cell_type": "code",
   "execution_count": 11,
   "metadata": {},
   "outputs": [
    {
     "data": {
      "text/plain": [
       "(tensor([0.7025, 0.0000, 0.1237,  ..., 0.0520, 0.0000, 0.0122]), 2048)"
      ]
     },
     "execution_count": 11,
     "metadata": {},
     "output_type": "execute_result"
    }
   ],
   "source": [
    "tensor = resnet50_image[images_data.image[0]]\n",
    "tensor, len(tensor)"
   ]
  },
  {
   "cell_type": "markdown",
   "metadata": {},
   "source": [
    "### **Load the ResNet101**\n",
    "\n",
    "![ResNet101 Architecture](https://www.researchgate.net/publication/354871169/figure/fig4/AS:1072734629011458@1632771274994/The-modified-architecture-of-Resnet-101.ppm)"
   ]
  },
  {
   "cell_type": "code",
   "execution_count": 12,
   "metadata": {},
   "outputs": [
    {
     "name": "stdout",
     "output_type": "stream",
     "text": [
      "Completed 1000 images\n",
      "Completed 2000 images\n",
      "Completed 3000 images\n",
      "Completed 4000 images\n",
      "Completed 5000 images\n",
      "Completed 6000 images\n",
      "Completed 7000 images\n",
      "Completed 8000 images\n"
     ]
    }
   ],
   "source": [
    "resnet101_image = {}\n",
    "cnt = 0\n",
    "img2vec = Img2Vec('resnet101')\n",
    "for img in images_data.image:\n",
    "    resnet101_image[img] = img2vec.get_vector(IMAGES_PATH + '/' + img)\n",
    "    cnt += 1\n",
    "    if cnt % 1000 == 0:\n",
    "        print(f\"Completed {cnt} images\")"
   ]
  },
  {
   "cell_type": "code",
   "execution_count": 13,
   "metadata": {},
   "outputs": [
    {
     "data": {
      "text/plain": [
       "(tensor([0.0000, 0.0000, 0.0000,  ..., 0.6880, 0.0000, 0.0162]), 2048)"
      ]
     },
     "execution_count": 13,
     "metadata": {},
     "output_type": "execute_result"
    }
   ],
   "source": [
    "tensor = resnet101_image[images_data.image[0]]\n",
    "tensor, len(tensor)"
   ]
  },
  {
   "cell_type": "markdown",
   "metadata": {},
   "source": [
    "### **Load the ResNet152**\n",
    "\n",
    "![ResNet152 Architecture](https://www.researchgate.net/publication/355839262/figure/fig1/AS:1085510193819652@1635817206566/ResNet152V2-Architecture.png)"
   ]
  },
  {
   "cell_type": "code",
   "execution_count": 14,
   "metadata": {},
   "outputs": [
    {
     "name": "stdout",
     "output_type": "stream",
     "text": [
      "Completed 1000 images\n",
      "Completed 2000 images\n",
      "Completed 3000 images\n",
      "Completed 4000 images\n",
      "Completed 5000 images\n",
      "Completed 6000 images\n",
      "Completed 7000 images\n",
      "Completed 8000 images\n"
     ]
    }
   ],
   "source": [
    "resnet152_image = {}\n",
    "cnt = 0\n",
    "img2vec = Img2Vec('resnet152')\n",
    "for img in images_data.image:\n",
    "    resnet152_image[img] = img2vec.get_vector(IMAGES_PATH + '/' + img)\n",
    "    cnt += 1\n",
    "    if cnt % 1000 == 0:\n",
    "        print(f\"Completed {cnt} images\")"
   ]
  },
  {
   "cell_type": "code",
   "execution_count": 15,
   "metadata": {},
   "outputs": [
    {
     "data": {
      "text/plain": [
       "(tensor([0.0000e+00, 4.1305e-04, 0.0000e+00,  ..., 0.0000e+00, 0.0000e+00,\n",
       "         2.8977e+00]),\n",
       " 2048)"
      ]
     },
     "execution_count": 15,
     "metadata": {},
     "output_type": "execute_result"
    }
   ],
   "source": [
    "tensor = resnet152_image[images_data.image[0]]\n",
    "tensor, len(tensor)"
   ]
  }
 ],
 "metadata": {
  "kernelspec": {
   "display_name": "Python 3",
   "language": "python",
   "name": "python3"
  },
  "language_info": {
   "codemirror_mode": {
    "name": "ipython",
    "version": 3
   },
   "file_extension": ".py",
   "mimetype": "text/x-python",
   "name": "python",
   "nbconvert_exporter": "python",
   "pygments_lexer": "ipython3",
   "version": "3.12.7"
  }
 },
 "nbformat": 4,
 "nbformat_minor": 2
}
